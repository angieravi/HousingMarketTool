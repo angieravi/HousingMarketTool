{
 "cells": [
  {
   "cell_type": "code",
   "execution_count": 3,
   "id": "7be11db2",
   "metadata": {},
   "outputs": [],
   "source": [
    "us_data_df = pd.read_csv('US_DATA.csv', low_memory=False)\n",
    "us_data_df['NAME'] = us_data_df['NAME'].astype(str)\n",
    "\n",
    "shapefile_path = 'tl_2023_us_county/tl_2023_us_county.shp'\n",
    "gdf_counties = gpd.read_file(shapefile_path)"
   ]
  },
  {
   "cell_type": "code",
   "execution_count": 4,
   "id": "82f618ef",
   "metadata": {},
   "outputs": [
    {
     "name": "stdout",
     "output_type": "stream",
     "text": [
      "GeoJSON file saved to processed_data.geojson\n"
     ]
    }
   ],
   "source": [
    "import geopandas as gpd\n",
    "import pandas as pd\n",
    "\n",
    "def process_county_data(state_code):\n",
    "    # Filter for a specific state\n",
    "    filtered_counties = gdf_counties[gdf_counties['STATEFP'] == state_code]\n",
    "    if filtered_counties.empty:\n",
    "        return None\n",
    "\n",
    "    # Keep necessary columns\n",
    "    filtered_counties = filtered_counties[['NAME', 'GEOIDFQ', 'geometry']].rename(columns={'NAME': 'County'})\n",
    "\n",
    "    # Merge with your demographic data\n",
    "    merged_data = filtered_counties.merge(us_data_df, left_on='GEOIDFQ', right_on='GEO_ID', how='left')\n",
    "    merged_data = merged_data.loc[:, ~merged_data.columns.duplicated()] \n",
    "\n",
    "    return merged_data\n",
    "\n",
    "\n",
    "state_code = \"42\" \n",
    "\n",
    "\n",
    "processed_data = process_county_data(state_code)\n",
    "\n",
    "\n",
    "if processed_data is not None:\n",
    "    geojson_path = \"processed_data.geojson\"\n",
    "    processed_data.to_file(geojson_path, driver=\"GeoJSON\")\n",
    "    print(f\"GeoJSON file saved to {geojson_path}\")\n",
    "else:\n",
    "    print(f\"No data found for state code {state_code}\")\n"
   ]
  }
 ],
 "metadata": {
  "kernelspec": {
   "display_name": "Python 3 (ipykernel)",
   "language": "python",
   "name": "python3"
  },
  "language_info": {
   "codemirror_mode": {
    "name": "ipython",
    "version": 3
   },
   "file_extension": ".py",
   "mimetype": "text/x-python",
   "name": "python",
   "nbconvert_exporter": "python",
   "pygments_lexer": "ipython3",
   "version": "3.9.13"
  }
 },
 "nbformat": 4,
 "nbformat_minor": 5
}

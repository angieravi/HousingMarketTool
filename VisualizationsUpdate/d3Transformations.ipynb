{
 "cells": [
  {
   "cell_type": "code",
   "execution_count": 2,
   "id": "d992e116",
   "metadata": {},
   "outputs": [
    {
     "data": {
      "text/plain": [
       "'median_listing_price_comparison.json'"
      ]
     },
     "execution_count": 2,
     "metadata": {},
     "output_type": "execute_result"
    }
   ],
   "source": [
    "import pandas as pd\n",
    "import json\n",
    "\n",
    "file_path = 'median_listing_price.csv'  \n",
    "data = pd.read_csv(file_path)\n",
    "\n",
    "us_data = data[data['RegionName'] == 'United States']\n",
    "latest_date = data.columns[-1]\n",
    "top10_regions = data[data['RegionName'] != 'United States'].sort_values(by=latest_date, ascending=False).head(10)\n",
    "\n",
    "combined_data = pd.concat([us_data, top10_regions])\n",
    "\n",
    "json_data = []\n",
    "\n",
    "for _, row in combined_data.iterrows():\n",
    "    region_name = row['RegionName']\n",
    "    \n",
    "    time_series = [{\"date\": date, \"median_price\": row[date]} for date in data.columns[5:]]\n",
    "    \n",
    "    region_entry = {\n",
    "        \"region\": region_name,\n",
    "        \"time_series\": time_series\n",
    "    }\n",
    "    \n",
    "    json_data.append(region_entry)\n",
    "\n",
    "# Step 3: Save to a JSON file\n",
    "output_path = 'median_listing_price_comparison.json'  \n",
    "with open(output_path, 'w') as f:\n",
    "    json.dump(json_data, f, indent=4)\n",
    "\n",
    "output_path\n"
   ]
  },
  {
   "cell_type": "code",
   "execution_count": 3,
   "id": "769244cb",
   "metadata": {},
   "outputs": [
    {
     "data": {
      "text/plain": [
       "'median_listing_price_comparison.json'"
      ]
     },
     "execution_count": 3,
     "metadata": {},
     "output_type": "execute_result"
    }
   ],
   "source": [
    "import pandas as pd\n",
    "import json\n",
    "import numpy as np\n",
    "\n",
    "file_path = 'median_listing_price.csv' \n",
    "data = pd.read_csv(file_path)\n",
    "\n",
    "us_data = data[data['RegionName'] == 'United States']\n",
    "latest_date = data.columns[-1]\n",
    "top10_regions = data.sort_values(by=latest_date, ascending=False).head(10)\n",
    "\n",
    "combined_data = pd.concat([us_data, top10_regions])\n",
    "\n",
    "json_data = []\n",
    "\n",
    "for _, row in combined_data.iterrows():\n",
    "    region_name = row['RegionName']\n",
    "    \n",
    "    time_series = [{\"date\": date, \"median_price\": row[date]} for date in data.columns[5:] if not pd.isna(row[date])]\n",
    "    \n",
    "    region_entry = {\n",
    "        \"region\": region_name,\n",
    "        \"time_series\": time_series\n",
    "    }\n",
    "    \n",
    "    json_data.append(region_entry)\n",
    "\n",
    "output_path = 'median_listing_price_comparison.json' \n",
    "with open(output_path, 'w') as f:\n",
    "    json.dump(json_data, f, indent=4)\n",
    "\n",
    "output_path"
   ]
  },
  {
   "cell_type": "code",
   "execution_count": 5,
   "id": "a0c35179",
   "metadata": {},
   "outputs": [
    {
     "data": {
      "text/plain": [
       "'top_10_cities_listing_price.json'"
      ]
     },
     "execution_count": 5,
     "metadata": {},
     "output_type": "execute_result"
    }
   ],
   "source": [
    "import pandas as pd\n",
    "import json\n",
    "\n",
    "file_path = 'median_listing_price.csv' \n",
    "data = pd.read_csv(file_path)\n",
    "\n",
    "top_10_cities = data[(data['SizeRank'] <= 10)].sort_values(by='SizeRank')\n",
    "\n",
    "json_data = []\n",
    "\n",
    "for _, row in top_10_cities.iterrows():\n",
    "    region_name = row['RegionName']\n",
    "    \n",
    "    time_series = [{\"date\": date, \"median_price\": row[date]} for date in data.columns[5:] if pd.notna(row[date])]\n",
    "    \n",
    "    region_entry = {\n",
    "        \"region\": region_name,\n",
    "        \"time_series\": time_series\n",
    "    }\n",
    "    \n",
    "    json_data.append(region_entry)\n",
    "\n",
    "output_path = 'top_10_cities_listing_price.json'  # Update with your desired output path\n",
    "with open(output_path, 'w') as f:\n",
    "    json.dump(json_data, f, indent=4)\n",
    "\n",
    "output_path"
   ]
  }
 ],
 "metadata": {
  "kernelspec": {
   "display_name": "Python 3 (ipykernel)",
   "language": "python",
   "name": "python3"
  },
  "language_info": {
   "codemirror_mode": {
    "name": "ipython",
    "version": 3
   },
   "file_extension": ".py",
   "mimetype": "text/x-python",
   "name": "python",
   "nbconvert_exporter": "python",
   "pygments_lexer": "ipython3",
   "version": "3.9.13"
  }
 },
 "nbformat": 4,
 "nbformat_minor": 5
}

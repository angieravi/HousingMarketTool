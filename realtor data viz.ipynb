{
 "cells": [
  {
   "cell_type": "code",
   "execution_count": 1,
   "id": "e8b1fca1",
   "metadata": {},
   "outputs": [],
   "source": [
    "import pandas as pd\n",
    "import numpy as np\n",
    "import seaborn as sns\n",
    "import matplotlib.pyplot as plt\n",
    "from matplotlib.ticker import FuncFormatter"
   ]
  },
  {
   "cell_type": "code",
   "execution_count": 5,
   "id": "8a9ad315",
   "metadata": {},
   "outputs": [],
   "source": [
    "# import realtor data\n",
    "real_estate = pd.read_csv(\"realtor-data.zip.csv\")\n",
    "\n",
    "# the data file includes 10 columns "
   ]
  },
  {
   "cell_type": "code",
   "execution_count": 6,
   "id": "0d61136d",
   "metadata": {},
   "outputs": [],
   "source": [
    "# filter out just PA data (for now)\n",
    "filtered_df = real_estate[real_estate['state'] == 'Pennsylvania']"
   ]
  },
  {
   "cell_type": "code",
   "execution_count": null,
   "id": "10b07b41",
   "metadata": {},
   "outputs": [],
   "source": []
  }
 ],
 "metadata": {
  "kernelspec": {
   "display_name": "Python 3 (ipykernel)",
   "language": "python",
   "name": "python3"
  },
  "language_info": {
   "codemirror_mode": {
    "name": "ipython",
    "version": 3
   },
   "file_extension": ".py",
   "mimetype": "text/x-python",
   "name": "python",
   "nbconvert_exporter": "python",
   "pygments_lexer": "ipython3",
   "version": "3.11.5"
  }
 },
 "nbformat": 4,
 "nbformat_minor": 5
}
